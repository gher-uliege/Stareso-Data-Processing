{
 "cells": [
  {
   "cell_type": "markdown",
   "id": "72c16b00",
   "metadata": {},
   "source": [
    "This example shows how to access data from the RACE database in Julia, using the [`LibPQ`](https://github.com/invenia/LibPQ.jl) library.\n",
    "\n",
    "Note that you have to be connected to the VPN."
   ]
  },
  {
   "cell_type": "code",
   "execution_count": 31,
   "id": "6e572751",
   "metadata": {},
   "outputs": [
    {
     "data": {
      "text/plain": [
       "PyObject <module 'matplotlib.dates' from '/home/ctroupin/.julia/conda/3/lib/python3.9/site-packages/matplotlib/dates.py'>"
      ]
     },
     "execution_count": 31,
     "metadata": {},
     "output_type": "execute_result"
    }
   ],
   "source": [
    "using LibPQ\n",
    "using Tables\n",
    "using PyPlot\n",
    "using PyCall\n",
    "using Dates\n",
    "const plt = PyPlot\n",
    "mdates = pyimport(\"matplotlib.dates\")"
   ]
  },
  {
   "cell_type": "markdown",
   "id": "708bca57",
   "metadata": {},
   "source": [
    "### Configuration"
   ]
  },
  {
   "cell_type": "code",
   "execution_count": 32,
   "id": "7357ef64",
   "metadata": {},
   "outputs": [],
   "source": [
    "plt.rc(\"font\", family=\"Times New Roman\", size=16)\n",
    "figdir = \"../../figures/\"\n",
    "isdir(figdir) ? @debug(\"ok\") : mkpath(figdir);"
   ]
  },
  {
   "cell_type": "markdown",
   "id": "fc9a26ee",
   "metadata": {},
   "source": [
    "## Establish the connection\n",
    "The user name and host are stored in a text file (`.bashrc` for example) that has to be sourced before running the notebook.       \n",
    "You will be prompted to enter your password. "
   ]
  },
  {
   "cell_type": "code",
   "execution_count": 54,
   "id": "c3918797",
   "metadata": {},
   "outputs": [
    {
     "name": "stdout",
     "output_type": "stream",
     "text": [
      "Enter password for PostgreSQL user master:: ········\n"
     ]
    }
   ],
   "source": [
    "conn = LibPQ.Connection(\"dbname=race_db_v2 user=$(ENV[\"RACEuser\"]) host=$(ENV[\"RACEhost\"])\");"
   ]
  },
  {
   "cell_type": "markdown",
   "id": "8e2a7a75",
   "metadata": {},
   "source": [
    "## Create query\n",
    "We set the initial and final date of the period of interest, as well as the variable name (`paramname`) and the station name. \n",
    "The list of available parameters and stations can be found at http://www.gitan.ulg.ac.be/Intranet/Intranet_BDRACE.html.    \n",
    "\n",
    "For the stations, the name has to be one of these:\n",
    "* the weather mast → `INSJD`\n",
    "* Roof of STARESO → `INST2`\n",
    "* STARESO harbour → `INST1` and `NEW03`\n",
    "* Optode mooring in front of the station → `OPT01`"
   ]
  },
  {
   "cell_type": "code",
   "execution_count": 53,
   "id": "d73f31e5",
   "metadata": {},
   "outputs": [
    {
     "data": {
      "text/plain": [
       "\"INSJD\""
      ]
     },
     "execution_count": 53,
     "metadata": {},
     "output_type": "execute_result"
    }
   ],
   "source": [
    "dateinit = DateTime(2022, 1, 1)\n",
    "dateend = DateTime(2022, 4, 20)\n",
    "paramname = \"airtemp\"\n",
    "stationname = \"INSJD\""
   ]
  },
  {
   "cell_type": "code",
   "execution_count": 55,
   "id": "f06de2b8",
   "metadata": {},
   "outputs": [
    {
     "data": {
      "text/plain": [
       "get_query (generic function with 6 methods)"
      ]
     },
     "execution_count": 55,
     "metadata": {},
     "output_type": "execute_result"
    }
   ],
   "source": [
    "function get_query(paramname::String, stationname::String=\"\", dateinit::DateTime=DateTime(1900, 1, 1), \n",
    "        dateend::DateTime=DateTime(2100, 1, 1))\n",
    "    \n",
    "    stationlist = [\"INSJD\", \"INST2\", \"INST1\", \"NEW03\", \"OPT01\"]\n",
    "    \n",
    "    if stationname ∈ stationlist\n",
    "\n",
    "        thequery = \"\"\"SELECT\n",
    "          data.datavalue,\n",
    "          data.daytime\n",
    "        FROM\n",
    "          public.data,\n",
    "          public.timeseries\n",
    "        WHERE\n",
    "          data.dasa_codeds = timeseries.codeds AND\n",
    "          timeseries.tssta_codesta = '$(stationname)' AND\n",
    "          data.daytime >= '$(Dates.format(dateinit, \"yyyy-mm-dd HH:MM:SS\"))' AND\n",
    "          data.daytime <= '$(Dates.format(dateend, \"yyyy-mm-dd HH:MM:SS\"))' AND\n",
    "          data.dataparam_codeparam = '$(paramname)'\n",
    "        GROUP BY\n",
    "          data.dataparam_codeparam,\n",
    "          data.datavalue,\n",
    "          data.daytime\n",
    "        ORDER BY\n",
    "          data.daytime;\n",
    "          \"\"\"\n",
    "        thequery = replace(thequery, \"\\n\" => \" \");\n",
    "        \n",
    "        return thequery\n",
    "    elseif length(stationname) == 0\n",
    "        @error(\"You did not specity any station name\")\n",
    "    else\n",
    "        @error(\"The station you specified doesn't exist\")\n",
    "    end\n",
    "end"
   ]
  },
  {
   "cell_type": "code",
   "execution_count": 42,
   "id": "a216fd0c",
   "metadata": {},
   "outputs": [],
   "source": [
    "temperature_query = get_query(\"airtemp\", \"INSJD\", dateinit, dateend);"
   ]
  },
  {
   "cell_type": "code",
   "execution_count": 43,
   "id": "61a3aec1",
   "metadata": {},
   "outputs": [],
   "source": [
    "result = execute(conn, temperature_query)\n",
    "data = columntable(result);"
   ]
  },
  {
   "cell_type": "markdown",
   "id": "999203e7",
   "metadata": {},
   "source": [
    "Close connection"
   ]
  },
  {
   "cell_type": "code",
   "execution_count": 44,
   "id": "ad3ffc4c",
   "metadata": {},
   "outputs": [],
   "source": [
    "close(conn)"
   ]
  },
  {
   "cell_type": "markdown",
   "id": "43cd2075",
   "metadata": {},
   "source": [
    "## Create plot"
   ]
  },
  {
   "cell_type": "code",
   "execution_count": 48,
   "id": "9255b184",
   "metadata": {},
   "outputs": [
    {
     "data": {
      "text/plain": [
       "plot_timeseries (generic function with 1 method)"
      ]
     },
     "execution_count": 48,
     "metadata": {},
     "output_type": "execute_result"
    }
   ],
   "source": [
    "function plot_timeseries(data, paramname, dateinit, dateend)\n",
    "    fig = plt.figure(figsize=(12, 6))\n",
    "    ax = plt.subplot(111)\n",
    "    ax.plot(data[:daytime], data[:datavalue], \"k\", lw=.5)\n",
    "    ax.set_ylabel(\"Air temperature\\n(°C)\", rotation=0, ha=\"right\")\n",
    "    ax.plot(data[:daytime][argmax(data[:datavalue])], maximum(data[:datavalue]), \"ro\", ms=7)\n",
    "    ax.plot(data[:daytime][argmin(data[:datavalue])], minimum(data[:datavalue]), \"bo\", ms=7)\n",
    "    #ax.text(0.01, 0.05, minvaluetext, transform=ax.transAxes)\n",
    "    #ax.text(0.01, 0.10, maxvaluetext, transform=ax.transAxes)\n",
    "    ax.set_xlim(dateinit, dateend)\n",
    "    ax.xaxis.set_minor_locator(mdates.DayLocator())\n",
    "    ax.spines.right.set_visible(false)\n",
    "    ax.spines.top.set_visible(false)\n",
    "    # ax.set_title(\"Air temperature in 2022\")\n",
    "    fig.autofmt_xdate()\n",
    "    plt.savefig(joinpath(figdir, \"$(paramname)_$(Dates.format(dateinit, \"yyyymmdd\"))_$(Dates.format(dateend, \"yyyymmdd\")).jpg\"), dpi=300, bbox_inches=\"tight\")\n",
    "    #plt.show()\n",
    "    plt.close()\n",
    "end"
   ]
  },
  {
   "cell_type": "markdown",
   "id": "73124258",
   "metadata": {},
   "source": [
    "## Loop on years"
   ]
  },
  {
   "cell_type": "code",
   "execution_count": 73,
   "id": "bef8a02f",
   "metadata": {},
   "outputs": [
    {
     "name": "stderr",
     "output_type": "stream",
     "text": [
      "┌ Info: Working on year 1988\n",
      "└ @ Main In[73]:2\n",
      "┌ Info: Bool[0, 0]\n",
      "└ @ Main In[73]:7\n",
      "┌ Info: No data, won't plot anything\n",
      "└ @ Main In[73]:11\n",
      "┌ Info: Working on year 1989\n",
      "└ @ Main In[73]:2\n",
      "┌ Info: Bool[0, 0]\n",
      "└ @ Main In[73]:7\n",
      "┌ Info: No data, won't plot anything\n",
      "└ @ Main In[73]:11\n",
      "┌ Info: Working on year 1990\n",
      "└ @ Main In[73]:2\n",
      "┌ Info: Bool[0, 0]\n",
      "└ @ Main In[73]:7\n",
      "┌ Info: No data, won't plot anything\n",
      "└ @ Main In[73]:11\n",
      "┌ Info: Working on year 1991\n",
      "└ @ Main In[73]:2\n",
      "┌ Info: Bool[0, 0]\n",
      "└ @ Main In[73]:7\n",
      "┌ Info: No data, won't plot anything\n",
      "└ @ Main In[73]:11\n",
      "┌ Info: Working on year 1992\n",
      "└ @ Main In[73]:2\n",
      "┌ Info: Bool[0, 0]\n",
      "└ @ Main In[73]:7\n",
      "┌ Info: No data, won't plot anything\n",
      "└ @ Main In[73]:11\n",
      "┌ Info: Working on year 1993\n",
      "└ @ Main In[73]:2\n",
      "┌ Info: Bool[0, 0]\n",
      "└ @ Main In[73]:7\n",
      "┌ Info: No data, won't plot anything\n",
      "└ @ Main In[73]:11\n",
      "┌ Info: Working on year 1994\n",
      "└ @ Main In[73]:2\n",
      "┌ Info: Bool[0, 0]\n",
      "└ @ Main In[73]:7\n",
      "┌ Info: No data, won't plot anything\n",
      "└ @ Main In[73]:11\n",
      "┌ Info: Working on year 1995\n",
      "└ @ Main In[73]:2\n",
      "┌ Info: Bool[0, 0]\n",
      "└ @ Main In[73]:7\n",
      "┌ Info: No data, won't plot anything\n",
      "└ @ Main In[73]:11\n",
      "┌ Info: Working on year 1996\n",
      "└ @ Main In[73]:2\n",
      "┌ Info: Bool[0, 0]\n",
      "└ @ Main In[73]:7\n",
      "┌ Info: No data, won't plot anything\n",
      "└ @ Main In[73]:11\n",
      "┌ Info: Working on year 1997\n",
      "└ @ Main In[73]:2\n",
      "┌ Info: Bool[0, 0]\n",
      "└ @ Main In[73]:7\n",
      "┌ Info: Working on year 1998\n",
      "└ @ Main In[73]:2\n",
      "┌ Info: Bool[0, 0]\n",
      "└ @ Main In[73]:7\n",
      "┌ Info: Working on year 1999\n",
      "└ @ Main In[73]:2\n",
      "┌ Info: Bool[0, 0]\n",
      "└ @ Main In[73]:7\n",
      "┌ Info: Working on year 2000\n",
      "└ @ Main In[73]:2\n",
      "┌ Info: Bool[0, 0]\n",
      "└ @ Main In[73]:7\n",
      "┌ Info: Working on year 2001\n",
      "└ @ Main In[73]:2\n",
      "┌ Info: Bool[0, 0]\n",
      "└ @ Main In[73]:7\n",
      "┌ Info: Working on year 2002\n",
      "└ @ Main In[73]:2\n",
      "┌ Info: Bool[0, 0]\n",
      "└ @ Main In[73]:7\n",
      "┌ Info: Working on year 2003\n",
      "└ @ Main In[73]:2\n",
      "┌ Info: Bool[0, 0]\n",
      "└ @ Main In[73]:7\n",
      "┌ Info: Working on year 2004\n",
      "└ @ Main In[73]:2\n",
      "┌ Info: Bool[0, 0]\n",
      "└ @ Main In[73]:7\n",
      "┌ Info: Working on year 2005\n",
      "└ @ Main In[73]:2\n",
      "┌ Info: Bool[0, 0]\n",
      "└ @ Main In[73]:7\n",
      "┌ Info: Working on year 2006\n",
      "└ @ Main In[73]:2\n",
      "┌ Info: Bool[0, 0]\n",
      "└ @ Main In[73]:7\n",
      "┌ Info: Working on year 2007\n",
      "└ @ Main In[73]:2\n",
      "┌ Info: Bool[0, 0]\n",
      "└ @ Main In[73]:7\n",
      "┌ Info: Working on year 2008\n",
      "└ @ Main In[73]:2\n",
      "┌ Info: Bool[0, 0]\n",
      "└ @ Main In[73]:7\n",
      "┌ Info: Working on year 2009\n",
      "└ @ Main In[73]:2\n",
      "┌ Info: Bool[0, 0]\n",
      "└ @ Main In[73]:7\n",
      "┌ Info: Working on year 2010\n",
      "└ @ Main In[73]:2\n",
      "┌ Info: Bool[0, 0]\n",
      "└ @ Main In[73]:7\n",
      "┌ Info: Working on year 2011\n",
      "└ @ Main In[73]:2\n",
      "┌ Info: Bool[0, 0]\n",
      "└ @ Main In[73]:7\n",
      "┌ Info: Working on year 2012\n",
      "└ @ Main In[73]:2\n",
      "┌ Info: Bool[0, 0]\n",
      "└ @ Main In[73]:7\n",
      "┌ Info: Working on year 2013\n",
      "└ @ Main In[73]:2\n",
      "┌ Info: Bool[0, 0]\n",
      "└ @ Main In[73]:7\n",
      "┌ Info: Working on year 2014\n",
      "└ @ Main In[73]:2\n",
      "┌ Info: Bool[0, 0]\n",
      "└ @ Main In[73]:7\n",
      "┌ Info: Working on year 2015\n",
      "└ @ Main In[73]:2\n",
      "┌ Info: Bool[0, 0]\n",
      "└ @ Main In[73]:7\n",
      "┌ Info: Working on year 2016\n",
      "└ @ Main In[73]:2\n",
      "┌ Info: Bool[0, 0]\n",
      "└ @ Main In[73]:7\n",
      "┌ Info: Working on year 2017\n",
      "└ @ Main In[73]:2\n",
      "┌ Info: Bool[0, 0]\n",
      "└ @ Main In[73]:7\n"
     ]
    },
    {
     "ename": "LoadError",
     "evalue": "PyError ($(Expr(:escape, :(ccall(#= /home/ctroupin/.julia/packages/PyCall/ygXW2/src/pyfncall.jl:43 =# @pysym(:PyObject_Call), PyPtr, (PyPtr, PyPtr, PyPtr), o, pyargsptr, kw))))) <class 'TypeError'>\nTypeError(\"float() argument must be a string or a number, not 'PyCall.jlwrap'\")\n  File \"/home/ctroupin/.julia/conda/3/lib/python3.9/site-packages/matplotlib/axes/_axes.py\", line 1637, in plot\n    self.add_line(line)\n  File \"/home/ctroupin/.julia/conda/3/lib/python3.9/site-packages/matplotlib/axes/_base.py\", line 2288, in add_line\n    self._update_line_limits(line)\n  File \"/home/ctroupin/.julia/conda/3/lib/python3.9/site-packages/matplotlib/axes/_base.py\", line 2311, in _update_line_limits\n    path = line.get_path()\n  File \"/home/ctroupin/.julia/conda/3/lib/python3.9/site-packages/matplotlib/lines.py\", line 999, in get_path\n    self.recache()\n  File \"/home/ctroupin/.julia/conda/3/lib/python3.9/site-packages/matplotlib/lines.py\", line 657, in recache\n    y = _to_unmasked_float_array(yconv).ravel()\n  File \"/home/ctroupin/.julia/conda/3/lib/python3.9/site-packages/matplotlib/cbook/__init__.py\", line 1298, in _to_unmasked_float_array\n    return np.asarray(x, float)\n",
     "output_type": "error",
     "traceback": [
      "PyError ($(Expr(:escape, :(ccall(#= /home/ctroupin/.julia/packages/PyCall/ygXW2/src/pyfncall.jl:43 =# @pysym(:PyObject_Call), PyPtr, (PyPtr, PyPtr, PyPtr), o, pyargsptr, kw))))) <class 'TypeError'>\nTypeError(\"float() argument must be a string or a number, not 'PyCall.jlwrap'\")\n  File \"/home/ctroupin/.julia/conda/3/lib/python3.9/site-packages/matplotlib/axes/_axes.py\", line 1637, in plot\n    self.add_line(line)\n  File \"/home/ctroupin/.julia/conda/3/lib/python3.9/site-packages/matplotlib/axes/_base.py\", line 2288, in add_line\n    self._update_line_limits(line)\n  File \"/home/ctroupin/.julia/conda/3/lib/python3.9/site-packages/matplotlib/axes/_base.py\", line 2311, in _update_line_limits\n    path = line.get_path()\n  File \"/home/ctroupin/.julia/conda/3/lib/python3.9/site-packages/matplotlib/lines.py\", line 999, in get_path\n    self.recache()\n  File \"/home/ctroupin/.julia/conda/3/lib/python3.9/site-packages/matplotlib/lines.py\", line 657, in recache\n    y = _to_unmasked_float_array(yconv).ravel()\n  File \"/home/ctroupin/.julia/conda/3/lib/python3.9/site-packages/matplotlib/cbook/__init__.py\", line 1298, in _to_unmasked_float_array\n    return np.asarray(x, float)\n",
      "",
      "Stacktrace:",
      "  [1] pyerr_check",
      "    @ ~/.julia/packages/PyCall/ygXW2/src/exception.jl:62 [inlined]",
      "  [2] pyerr_check",
      "    @ ~/.julia/packages/PyCall/ygXW2/src/exception.jl:66 [inlined]",
      "  [3] _handle_error(msg::String)",
      "    @ PyCall ~/.julia/packages/PyCall/ygXW2/src/exception.jl:83",
      "  [4] macro expansion",
      "    @ ~/.julia/packages/PyCall/ygXW2/src/exception.jl:97 [inlined]",
      "  [5] #107",
      "    @ ~/.julia/packages/PyCall/ygXW2/src/pyfncall.jl:43 [inlined]",
      "  [6] disable_sigint",
      "    @ ./c.jl:473 [inlined]",
      "  [7] __pycall!",
      "    @ ~/.julia/packages/PyCall/ygXW2/src/pyfncall.jl:42 [inlined]",
      "  [8] _pycall!(ret::PyObject, o::PyObject, args::Tuple{LibPQ.Column{Union{Missing, DateTime}, 0x0000045a, DateTime, LibPQ.Result{false}, LibPQ.ParseType{DateTime}}, LibPQ.Column{Union{Missing, Float32}, 0x000002bc, Float32, LibPQ.Result{false}, LibPQ.ParseType{Float32}}, String}, nargs::Int64, kw::PyObject)",
      "    @ PyCall ~/.julia/packages/PyCall/ygXW2/src/pyfncall.jl:29",
      "  [9] _pycall!(ret::PyObject, o::PyObject, args::Tuple{LibPQ.Column{Union{Missing, DateTime}, 0x0000045a, DateTime, LibPQ.Result{false}, LibPQ.ParseType{DateTime}}, LibPQ.Column{Union{Missing, Float32}, 0x000002bc, Float32, LibPQ.Result{false}, LibPQ.ParseType{Float32}}, String}, kwargs::Base.Pairs{Symbol, Float64, Tuple{Symbol}, NamedTuple{(:lw,), Tuple{Float64}}})",
      "    @ PyCall ~/.julia/packages/PyCall/ygXW2/src/pyfncall.jl:11",
      " [10] #_#114",
      "    @ ~/.julia/packages/PyCall/ygXW2/src/pyfncall.jl:86 [inlined]",
      " [11] plot_timeseries(data::NamedTuple{(:datavalue, :daytime), Tuple{LibPQ.Column{Union{Missing, Float32}, 0x000002bc, Float32, LibPQ.Result{false}, LibPQ.ParseType{Float32}}, LibPQ.Column{Union{Missing, DateTime}, 0x0000045a, DateTime, LibPQ.Result{false}, LibPQ.ParseType{DateTime}}}}, paramname::String, dateinit::DateTime, dateend::DateTime)",
      "    @ Main ./In[48]:4",
      " [12] top-level scope",
      "    @ ./In[73]:13",
      " [13] eval",
      "    @ ./boot.jl:368 [inlined]",
      " [14] include_string(mapexpr::typeof(REPL.softscope), mod::Module, code::String, filename::String)",
      "    @ Base ./loading.jl:1428"
     ]
    }
   ],
   "source": [
    "for yy = 1988:2022\n",
    "    @info(\"Working on year $(yy)\");\n",
    "    dateinit = DateTime(yy, 1, 1)\n",
    "    dateend = DateTime(yy, 12, 31)\n",
    "    temperature_query = get_query(\"airtemp\", \"INSJD\", dateinit, dateend);\n",
    "    result = execute(conn, temperature_query)\n",
    "    @info(result.not_null);\n",
    "    \n",
    "    data = columntable(result);\n",
    "    if length(data[:daytime]) == 0\n",
    "        @info(\"No data, won't plot anything\")\n",
    "    else\n",
    "        plot_timeseries(data, paramname, dateinit, dateend)\n",
    "    end\n",
    "end"
   ]
  },
  {
   "cell_type": "code",
   "execution_count": 60,
   "id": "206c2c6c",
   "metadata": {},
   "outputs": [
    {
     "data": {
      "text/plain": [
       "PostgreSQL result"
      ]
     },
     "execution_count": 60,
     "metadata": {},
     "output_type": "execute_result"
    }
   ],
   "source": [
    "yy = 2010\n",
    "dateinit = DateTime(yy, 1, 1)\n",
    "dateend = DateTime(yy, 4, 20)\n",
    "temperature_query = get_query(\"airtemp\", \"INSJD\", dateinit, dateend);\n",
    "result = execute(conn, temperature_query)"
   ]
  },
  {
   "cell_type": "code",
   "execution_count": 67,
   "id": "6b0619a4",
   "metadata": {},
   "outputs": [
    {
     "data": {
      "text/plain": [
       "LibPQ.Result{false}"
      ]
     },
     "execution_count": 67,
     "metadata": {},
     "output_type": "execute_result"
    }
   ],
   "source": [
    "typeof(result)"
   ]
  },
  {
   "cell_type": "code",
   "execution_count": null,
   "id": "c0a724ac",
   "metadata": {},
   "outputs": [],
   "source": []
  }
 ],
 "metadata": {
  "kernelspec": {
   "display_name": "Julia 1.8.0",
   "language": "julia",
   "name": "julia-1.8"
  },
  "language_info": {
   "file_extension": ".jl",
   "mimetype": "application/julia",
   "name": "julia",
   "version": "1.8.0"
  }
 },
 "nbformat": 4,
 "nbformat_minor": 5
}
