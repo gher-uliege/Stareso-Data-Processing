{
 "cells": [
  {
   "cell_type": "markdown",
   "metadata": {
    "deletable": true,
    "editable": true
   },
   "source": [
    "Connect to [RACE](http://www.gitan.ulg.ac.be/cms/index.php?page=donnees-de-stareso#1.) database (*Rapid Assessment of the marine Coastal Environment*) and perform a simple data query.    \n",
    "Follow the instructions found at http://www.gitan.ulg.ac.be/cms/index.php?page=requetes#R."
   ]
  },
  {
   "cell_type": "markdown",
   "metadata": {
    "deletable": true,
    "editable": true
   },
   "source": [
    "# Prerequisites\n",
    "\n",
    "1. You need to have a user name and password to access the database.\n",
    "2. If you're not using the ULg network (wired or wireless), it is necessary to use the ULg Virtual Private Network (VPN), otherwise the connection won't be authorised.\n",
    "3. Some packages have to be installed:\n",
    "\n",
    "  * [PostgreSQL](https://cran.r-project.org/web/packages/RPostgreSQL/index.html) by issung the command `install.packages(\"RPostgreSQL\")`\n",
    "  * [getPass](https://cran.r-project.org/web/packages/getPass/index.html): `install.packages(\"getPass\")`\n",
    "  * [openair](https://cran.r-project.org/web/packages/openair/index.html): `install.packages(\"openair\")`"
   ]
  },
  {
   "cell_type": "markdown",
   "metadata": {},
   "source": [
    "## Load packages"
   ]
  },
  {
   "cell_type": "code",
   "execution_count": 1,
   "metadata": {
    "collapsed": false,
    "deletable": true,
    "editable": true
   },
   "outputs": [
    {
     "name": "stderr",
     "output_type": "stream",
     "text": [
      "Loading required package: DBI\n"
     ]
    }
   ],
   "source": [
    "library(RPostgreSQL)\n",
    "library(getPass)\n",
    "library(openair)"
   ]
  },
  {
   "cell_type": "markdown",
   "metadata": {},
   "source": [
    "Load the PostgreSQL driver"
   ]
  },
  {
   "cell_type": "code",
   "execution_count": 14,
   "metadata": {
    "collapsed": true,
    "deletable": true,
    "editable": true
   },
   "outputs": [],
   "source": [
    "drv <- dbDriver(\"PostgreSQL\")"
   ]
  },
  {
   "cell_type": "markdown",
   "metadata": {},
   "source": [
    "## Connection setup\n",
    "\n",
    "You need to have an access to the database.    \n",
    "Here you will have to write your credentials, but another solution would be to read them from a local file on your machine."
   ]
  },
  {
   "cell_type": "code",
   "execution_count": 3,
   "metadata": {
    "collapsed": false,
    "deletable": true,
    "editable": true
   },
   "outputs": [
    {
     "name": "stdout",
     "output_type": "stream",
     "text": [
      "Enter host: ········\n"
     ]
    }
   ],
   "source": [
    "dbhost = getPass::getPass(\"Enter host: \")"
   ]
  },
  {
   "cell_type": "code",
   "execution_count": 7,
   "metadata": {
    "collapsed": false,
    "deletable": true,
    "editable": true
   },
   "outputs": [
    {
     "name": "stdout",
     "output_type": "stream",
     "text": [
      "Enter word: ········\n"
     ]
    }
   ],
   "source": [
    "dbpa = getPass::getPass(\"Enter word: \")"
   ]
  },
  {
   "cell_type": "code",
   "execution_count": 5,
   "metadata": {
    "collapsed": false,
    "deletable": true,
    "editable": true
   },
   "outputs": [
    {
     "name": "stdout",
     "output_type": "stream",
     "text": [
      "Enter username: ········\n"
     ]
    }
   ],
   "source": [
    "dbuser = getPass::getPass(\"Enter username: \")"
   ]
  },
  {
   "cell_type": "code",
   "execution_count": 9,
   "metadata": {
    "collapsed": false,
    "deletable": true,
    "editable": true
   },
   "outputs": [],
   "source": [
    "# Open a connection\n",
    "con <- dbConnect(drv, user= dbuser, password=dbpa, dbname=\"race_db_v2\", host=dbhost, port=\"5432\")\n",
    "Sys.setenv(TZ = \"UTC\")"
   ]
  },
  {
   "cell_type": "markdown",
   "metadata": {},
   "source": [
    "If you get an `Error in postgresqlNewConnection(drv, ...)`, check if VPN is properly established."
   ]
  },
  {
   "cell_type": "code",
   "execution_count": 10,
   "metadata": {
    "collapsed": false,
    "deletable": true,
    "editable": true
   },
   "outputs": [
    {
     "data": {
      "text/plain": [
       "<PostgreSQLConnection>"
      ]
     },
     "metadata": {},
     "output_type": "display_data"
    }
   ],
   "source": [
    "con"
   ]
  },
  {
   "cell_type": "code",
   "execution_count": 11,
   "metadata": {
    "collapsed": false,
    "deletable": true,
    "editable": true
   },
   "outputs": [],
   "source": [
    "windQuery <- \"select daytime as date, speed as ws, direction as wd from (select daytime, tssta_codesta,  max(speed) as speed, max(direction) as direction from (SELECT data.daytime, timeseries.tssta_codesta, data.datavalue as speed, NULL as direction FROM public.data, public.timeseries WHERE timeseries.codeds = data.dasa_codeds AND  timeseries.tssta_codesta = 'INSJD' AND data.dataparam_codeparam = 'windspeed' UNION SELECT data.daytime, timeseries.tssta_codesta, NULL as speed, data.datavalue as direction FROM public.data, public.timeseries WHERE timeseries.codeds = data.dasa_codeds AND timeseries.tssta_codesta = 'INSJD' AND data.dataparam_codeparam = 'winddir') tabletempo GROUP BY daytime, tssta_codesta ORDER BY daytime) tabletempo2 where daytime BETWEEN '2014-02-01 00:00:00' AND  '2014-03-01 00:00:00'\""
   ]
  },
  {
   "cell_type": "markdown",
   "metadata": {},
   "source": [
    "# Execute request"
   ]
  },
  {
   "cell_type": "code",
   "execution_count": 12,
   "metadata": {
    "collapsed": true,
    "deletable": true,
    "editable": true
   },
   "outputs": [],
   "source": [
    "datarose <- dbGetQuery(con, windQuery)"
   ]
  },
  {
   "cell_type": "markdown",
   "metadata": {},
   "source": [
    "## Generate plot"
   ]
  },
  {
   "cell_type": "code",
   "execution_count": 13,
   "metadata": {
    "collapsed": false,
    "deletable": true,
    "editable": true
   },
   "outputs": [
    {
     "data": {
      "image/png": "[encoded data removed]",
      "text/plain": [
       "plot without title"
      ]
     },
     "metadata": {},
     "output_type": "display_data"
    }
   ],
   "source": [
    "windRose(datarose, type=\"season\", angle=22.5) "
   ]
  }
 ],
 "metadata": {
  "kernelspec": {
   "display_name": "R",
   "language": "R",
   "name": "ir"
  },
  "language_info": {
   "codemirror_mode": "r",
   "file_extension": ".r",
   "mimetype": "text/x-r-source",
   "name": "R",
   "pygments_lexer": "r",
   "version": "3.4.0"
  }
 },
 "nbformat": 4,
 "nbformat_minor": 2
}
