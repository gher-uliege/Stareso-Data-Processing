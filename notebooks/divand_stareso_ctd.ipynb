{
 "cells": [
  {
   "cell_type": "markdown",
   "metadata": {},
   "source": [
    "In this notebook we show how to read and interpolate a series of CTD profiles using the `DIVAnd` interpolation tool."
   ]
  },
  {
   "cell_type": "code",
   "execution_count": 2,
   "metadata": {},
   "outputs": [
    {
     "name": "stderr",
     "output_type": "stream",
     "text": [
      "\u001b[32m\u001b[1m    Updating\u001b[22m\u001b[39m registry at `~/.julia/registries/General`\n",
      "\u001b[32m\u001b[1m    Updating\u001b[22m\u001b[39m git-repo `https://github.com/JuliaRegistries/General.git`\n",
      "\u001b[32m\u001b[1m   Resolving\u001b[22m\u001b[39m package versions...\n",
      "\u001b[32m\u001b[1m    Updating\u001b[22m\u001b[39m `~/.julia/environments/v1.8/Project.toml`\n",
      " \u001b[90m [85f8d34a] \u001b[39m\u001b[92m+ NCDatasets v0.12.7\u001b[39m\n",
      "\u001b[32m\u001b[1m  No Changes\u001b[22m\u001b[39m to `~/.julia/environments/v1.8/Manifest.toml`\n"
     ]
    }
   ],
   "source": [
    "import Pkg; Pkg.add(\"NCDatasets\")"
   ]
  },
  {
   "cell_type": "code",
   "execution_count": 3,
   "metadata": {},
   "outputs": [],
   "source": [
    "using DIVAnd\n",
    "using NCDatasets\n",
    "using PyPlot"
   ]
  },
  {
   "cell_type": "markdown",
   "metadata": {},
   "source": [
    "# User inputs\n",
    "\n",
    "## Domain of interest, resolution"
   ]
  },
  {
   "cell_type": "code",
   "execution_count": 38,
   "metadata": {},
   "outputs": [],
   "source": [
    "depthmin, depthmax, deltadepth = 0., 100., 1.;\n",
    "timemin, timemax, deltatime = 0., 1955., 1.;\n",
    "depthr = depthmin:deltadepth:depthmax;\n",
    "timer = timemin:deltatime:timemax;"
   ]
  },
  {
   "cell_type": "markdown",
   "metadata": {},
   "source": [
    "## Files and directories"
   ]
  },
  {
   "cell_type": "code",
   "execution_count": 6,
   "metadata": {},
   "outputs": [
    {
     "name": "stderr",
     "output_type": "stream",
     "text": [
      "12-mai 16:36:52:INFO:root:Data file:\n",
      "./data/Stareso100m_2012_2013_2017_divand.txt\n",
      "12-mai 16:36:52:INFO:root:Result file:\n",
      "./results/divand/Stareso100m_2012_2013_2017.nc\n"
     ]
    }
   ],
   "source": [
    "datadir = \"./data/\";\n",
    "datafile = joinpath(datadir, \"Stareso100m_2012_2013_2017_divand.txt\")\n",
    "resultdir = joinpath(\"./results/divand/\");\n",
    "resultfile = joinpath(resultdir, \"Stareso100m_2012_2013_2017.nc\");\n",
    "info(\"Data file:\\n\", datafile)\n",
    "info(\"Result file:\\n\", resultfile)"
   ]
  },
  {
   "cell_type": "markdown",
   "metadata": {},
   "source": [
    "# Read values from file"
   ]
  },
  {
   "cell_type": "markdown",
   "metadata": {},
   "source": [
    "Create function to read."
   ]
  },
  {
   "cell_type": "code",
   "execution_count": 7,
   "metadata": {},
   "outputs": [
    {
     "name": "stderr",
     "output_type": "stream",
     "text": [
      "WARNING: Method definition readCTDFile(Any) in module Main at In[4]:3 overwritten at In[7]:3.\n",
      "12-mai 16:36:53:INFO:root:Data read from file ./data/Stareso100m_2012_2013_2017_divand.txt\n"
     ]
    }
   ],
   "source": [
    "function readCTDFile(fname)\n",
    "\n",
    "    data = readlines(open(fname,\"r\"))\n",
    "    nobs = length(data)\n",
    "\n",
    "    time = zeros(nobs)\n",
    "    depth = zeros(nobs)\n",
    "    field = zeros(nobs)\n",
    "\n",
    "    for i in 1:nobs\n",
    "        rec = split(data[i])\n",
    "        time[i] = parse(Float64,rec[1])\n",
    "        depth[i] = parse(Float64,rec[2])\n",
    "        field[i] = parse(Float64,rec[3])\n",
    "    end\n",
    "    \n",
    "    return time, depth, field\n",
    "end\n",
    "info(\"Data read from file \", datafile)"
   ]
  },
  {
   "cell_type": "code",
   "execution_count": 20,
   "metadata": {},
   "outputs": [
    {
     "name": "stderr",
     "output_type": "stream",
     "text": [
      "12-mai 16:46:05:DEBUG:root:File./data/Stareso100m_2012_2013_2017_divand.txt exists\n",
      "12-mai 16:46:05:INFO:root:Reading 17824 data points\n",
      "12-mai 16:46:05:INFO:root:Mean field value = 16.995158283102917\n"
     ]
    }
   ],
   "source": [
    "if isfile(datafile)\n",
    "    debug(\"File\", datafile, \" exists\")\n",
    "    time, depth, field = readCTDFile(datafile);\n",
    "    info(\"Reading \", length(time), \" data points\")\n",
    "    info(\"Mean field value = \", mean(field))\n",
    "else\n",
    "    warn(\"File\", datafile, \" doesn't exist\")\n",
    "end"
   ]
  },
  {
   "cell_type": "markdown",
   "metadata": {},
   "source": [
    "# Apply `divand` interpolation."
   ]
  },
  {
   "cell_type": "code",
   "execution_count": 39,
   "metadata": {},
   "outputs": [],
   "source": [
    "mask, (pt, pd), (ti, di) = divand_rectdom(timer, depthr);"
   ]
  },
  {
   "cell_type": "markdown",
   "metadata": {},
   "source": [
    "## Analysis parameters"
   ]
  },
  {
   "cell_type": "code",
   "execution_count": 43,
   "metadata": {
    "collapsed": true
   },
   "outputs": [],
   "source": [
    "# correlation length\n",
    "len = (5., 10.);\n",
    "# obs. error variance normalized by the background error variance\n",
    "epsilon2 = .5;"
   ]
  },
  {
   "cell_type": "markdown",
   "metadata": {},
   "source": [
    "## Perform interpolation"
   ]
  },
  {
   "cell_type": "code",
   "execution_count": 44,
   "metadata": {},
   "outputs": [
    {
     "name": "stdout",
     "output_type": "stream",
     "text": [
      " 13.743950 seconds (5.93 M allocations: 2.673 GB, 8.36% gc time)\n"
     ]
    }
   ],
   "source": [
    "@time fi,s = divandrun(mask, (pt, pd), (ti, di), (time, depth), field, len, epsilon2; alphabc=2);"
   ]
  },
  {
   "cell_type": "markdown",
   "metadata": {},
   "source": [
    "## Export results to netCDF"
   ]
  },
  {
   "cell_type": "code",
   "execution_count": 45,
   "metadata": {},
   "outputs": [
    {
     "name": "stderr",
     "output_type": "stream",
     "text": [
      "12-mai 16:59:56:INFO:root:Written interpolated field in file:\n",
      "./results/divand/Stareso100m_2012_2013_2017.nc\n"
     ]
    }
   ],
   "source": [
    "sz = size(mask)\n",
    "dims = [NcDim(\"depth\",sz[1]), NcDim(\"time\",sz[2])];\n",
    "nc = NetCDF.create(resultfile, NcVar(\"Temperature\", dims))\n",
    "nc[\"Temperature\"][:,:] = fi\n",
    "NetCDF.close(nc);\n",
    "info(\"Written interpolated field in file:\\n\", resultfile)"
   ]
  }
 ],
 "metadata": {
  "kernelspec": {
   "display_name": "Julia 1.8.0",
   "language": "julia",
   "name": "julia-1.8"
  },
  "language_info": {
   "file_extension": ".jl",
   "mimetype": "application/julia",
   "name": "julia",
   "version": "1.8.0"
  }
 },
 "nbformat": 4,
 "nbformat_minor": 2
}
